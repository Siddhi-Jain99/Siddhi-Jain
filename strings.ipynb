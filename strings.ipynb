{
 "cells": [
  {
   "cell_type": "markdown",
   "id": "d4fd54db-75b5-45b9-88f3-d42b624ef110",
   "metadata": {},
   "source": [
    "# STRINGS"
   ]
  },
  {
   "cell_type": "markdown",
   "id": "439deba6-0563-4ddd-8793-1cea8ebf46f9",
   "metadata": {},
   "source": [
    "* single line comment"
   ]
  },
  {
   "cell_type": "code",
   "execution_count": 10,
   "id": "c64fe45b-4477-4d35-b32d-d8a9f52dc5d4",
   "metadata": {},
   "outputs": [
    {
     "name": "stdout",
     "output_type": "stream",
     "text": [
      "S\n",
      "1\n",
      "Hello, World!\n",
      "13\n",
      "It is a 30 days of python challenge\n"
     ]
    }
   ],
   "source": [
    "letter = 'S'\n",
    "print(letter)\n",
    "print(len(letter))\n",
    "greeting = 'Hello, World!'\n",
    "print(greeting)\n",
    "print(len(greeting))\n",
    "sentence = \"It is a 30 days of python challenge\"\n",
    "print(sentence)"
   ]
  },
  {
   "cell_type": "markdown",
   "id": "1aec2a20-8e28-47c5-997d-3a2ec543ac28",
   "metadata": {},
   "source": [
    "* multiline string"
   ]
  },
  {
   "cell_type": "code",
   "execution_count": 13,
   "id": "f78fea34-9f7f-4624-bc7e-4ab04c4a8109",
   "metadata": {},
   "outputs": [
    {
     "name": "stdout",
     "output_type": "stream",
     "text": [
      "I am a student and I enjoy learning.\n",
      "I don't know how to code.\n",
      "That's why I joined nit.\n"
     ]
    }
   ],
   "source": [
    "multiline_string = '''I am a student and I enjoy learning.\n",
    "I don't know how to code.\n",
    "That's why I joined nit.'''\n",
    "print(multiline_string)"
   ]
  },
  {
   "cell_type": "code",
   "execution_count": 15,
   "id": "20101f3e-0cd8-43d7-b7c0-d4e1fbeff985",
   "metadata": {},
   "outputs": [
    {
     "name": "stdout",
     "output_type": "stream",
     "text": [
      "I am a student and I enjoy learning.\n",
      "I don't know how to code.\n",
      "That's why I joined nit.\n"
     ]
    }
   ],
   "source": [
    "multiline_string = \"\"\"I am a student and I enjoy learning.\n",
    "I don't know how to code.\n",
    "That's why I joined nit.\"\"\"\n",
    "print(multiline_string)"
   ]
  },
  {
   "cell_type": "markdown",
   "id": "efca2178-0835-4e5b-9ef5-7e9ddbf765c1",
   "metadata": {},
   "source": [
    "* string concatination"
   ]
  },
  {
   "cell_type": "code",
   "execution_count": 22,
   "id": "f6ad366e-b240-4806-a41f-9ab9bc05fe7c",
   "metadata": {},
   "outputs": [
    {
     "name": "stdout",
     "output_type": "stream",
     "text": [
      "Siddhi Jain\n",
      "6\n",
      "4\n",
      "True\n",
      "11\n"
     ]
    }
   ],
   "source": [
    "first_name = 'Siddhi'\n",
    "last_name = 'Jain'\n",
    "space = ' '\n",
    "full_name = first_name  +  space + last_name\n",
    "print(full_name)\n",
    "print(len(first_name))\n",
    "print(len(last_name))\n",
    "print(len(first_name) > len(last_name))\n",
    "print(len(full_name))"
   ]
  },
  {
   "cell_type": "code",
   "execution_count": 24,
   "id": "26530d24-bd69-444e-8b06-3a1c94430a94",
   "metadata": {},
   "outputs": [
    {
     "name": "stdout",
     "output_type": "stream",
     "text": [
      "P\n",
      "y\n",
      "t\n",
      "h\n",
      "o\n",
      "n\n"
     ]
    }
   ],
   "source": [
    "language = 'Python'\n",
    "a,b,c,d,e,f = language\n",
    "print(a)\n",
    "print(b)\n",
    "print(c)\n",
    "print(d)\n",
    "print(e)\n",
    "print(f)"
   ]
  },
  {
   "cell_type": "code",
   "execution_count": 26,
   "id": "cd7cd3f3-bc11-4895-a13c-54e1cd3856bf",
   "metadata": {},
   "outputs": [
    {
     "name": "stdout",
     "output_type": "stream",
     "text": [
      "P\n",
      "y\n",
      "n\n"
     ]
    }
   ],
   "source": [
    "language = 'Python'\n",
    "first_letter = language[0]\n",
    "print(first_letter)\n",
    "second_letter = language[1]\n",
    "print(second_letter)\n",
    "last_index = len(language) - 1\n",
    "last_letter = language[last_index]\n",
    "print(last_letter)"
   ]
  }
 ],
 "metadata": {
  "kernelspec": {
   "display_name": "Python [conda env:base] *",
   "language": "python",
   "name": "conda-base-py"
  },
  "language_info": {
   "codemirror_mode": {
    "name": "ipython",
    "version": 3
   },
   "file_extension": ".py",
   "mimetype": "text/x-python",
   "name": "python",
   "nbconvert_exporter": "python",
   "pygments_lexer": "ipython3",
   "version": "3.12.7"
  }
 },
 "nbformat": 4,
 "nbformat_minor": 5
}
