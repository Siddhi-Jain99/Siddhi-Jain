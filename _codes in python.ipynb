{
 "cells": [
  {
   "cell_type": "code",
   "execution_count": 11,
   "id": "0e4e761b-8b58-4858-b2b1-2b852b785b4d",
   "metadata": {},
   "outputs": [
    {
     "data": {
      "text/plain": [
       "9"
      ]
     },
     "execution_count": 11,
     "metadata": {},
     "output_type": "execute_result"
    }
   ],
   "source": [
    "9"
   ]
  },
  {
   "cell_type": "code",
   "execution_count": 13,
   "id": "cbc43a51-5ff6-4aca-a692-15e8fab641d4",
   "metadata": {},
   "outputs": [
    {
     "data": {
      "text/plain": [
       "15"
      ]
     },
     "execution_count": 13,
     "metadata": {},
     "output_type": "execute_result"
    }
   ],
   "source": [
    "10 + 5"
   ]
  },
  {
   "cell_type": "code",
   "execution_count": 35,
   "id": "16dfca28-547f-4df7-b897-c9ca79f266fc",
   "metadata": {},
   "outputs": [
    {
     "data": {
      "text/plain": [
       "30"
      ]
     },
     "execution_count": 35,
     "metadata": {},
     "output_type": "execute_result"
    }
   ],
   "source": [
    "(10 + 5) * 2"
   ]
  },
  {
   "cell_type": "code",
   "execution_count": 37,
   "id": "61e150f7-a5d9-4795-bd4c-b8605357902d",
   "metadata": {},
   "outputs": [
    {
     "data": {
      "text/plain": [
       "20"
      ]
     },
     "execution_count": 37,
     "metadata": {},
     "output_type": "execute_result"
    }
   ],
   "source": [
    "10 + 5 * 2"
   ]
  },
  {
   "cell_type": "code",
   "execution_count": 19,
   "id": "363feba8-793a-4982-a585-7b8737f4e0a2",
   "metadata": {},
   "outputs": [
    {
     "data": {
      "text/plain": [
       "2.0"
      ]
     },
     "execution_count": 19,
     "metadata": {},
     "output_type": "execute_result"
    }
   ],
   "source": [
    "10/5"
   ]
  },
  {
   "cell_type": "code",
   "execution_count": 21,
   "id": "4eeb9087-d8cc-4bf4-a276-3adef8feb85a",
   "metadata": {},
   "outputs": [
    {
     "data": {
      "text/plain": [
       "2"
      ]
     },
     "execution_count": 21,
     "metadata": {},
     "output_type": "execute_result"
    }
   ],
   "source": [
    "10//5"
   ]
  },
  {
   "cell_type": "code",
   "execution_count": 25,
   "id": "f575a551-c0d9-4820-b730-87e91a6f4854",
   "metadata": {},
   "outputs": [
    {
     "data": {
      "text/plain": [
       "'siddhi jain'"
      ]
     },
     "execution_count": 25,
     "metadata": {},
     "output_type": "execute_result"
    }
   ],
   "source": [
    "'siddhi jain'"
   ]
  },
  {
   "cell_type": "code",
   "execution_count": 27,
   "id": "56df1e3e-52aa-4bdc-9227-d788c8f60e7c",
   "metadata": {},
   "outputs": [
    {
     "data": {
      "text/plain": [
       "5"
      ]
     },
     "execution_count": 27,
     "metadata": {},
     "output_type": "execute_result"
    }
   ],
   "source": [
    "10-5"
   ]
  },
  {
   "cell_type": "code",
   "execution_count": 29,
   "id": "f125e2c6-011a-4c3f-b8c3-7db4a2f7a287",
   "metadata": {},
   "outputs": [
    {
     "data": {
      "text/plain": [
       "6"
      ]
     },
     "execution_count": 29,
     "metadata": {},
     "output_type": "execute_result"
    }
   ],
   "source": [
    "2 * 3"
   ]
  },
  {
   "cell_type": "code",
   "execution_count": 31,
   "id": "874ce4d4-da02-4919-8615-2ccafe9f37f1",
   "metadata": {},
   "outputs": [
    {
     "data": {
      "text/plain": [
       "8"
      ]
     },
     "execution_count": 31,
     "metadata": {},
     "output_type": "execute_result"
    }
   ],
   "source": [
    "2 ** 3"
   ]
  },
  {
   "cell_type": "code",
   "execution_count": 33,
   "id": "c8e4b7cf-cbfe-400e-a0e8-3cbb7eb3dc2f",
   "metadata": {},
   "outputs": [
    {
     "data": {
      "text/plain": [
       "9"
      ]
     },
     "execution_count": 33,
     "metadata": {},
     "output_type": "execute_result"
    }
   ],
   "source": [
    "3 ** 2"
   ]
  },
  {
   "cell_type": "code",
   "execution_count": 1,
   "id": "66dc85bf-f0a5-4527-83f3-d589d413c138",
   "metadata": {},
   "outputs": [
    {
     "data": {
      "text/plain": [
       "'3.12.7 | packaged by Anaconda, Inc. | (main, Oct  4 2024, 13:17:27) [MSC v.1929 64 bit (AMD64)]'"
      ]
     },
     "execution_count": 1,
     "metadata": {},
     "output_type": "execute_result"
    }
   ],
   "source": [
    "import sys\n",
    "sys.version"
   ]
  },
  {
   "cell_type": "code",
   "execution_count": 49,
   "id": "288a0678-ef3a-41f9-a901-b8cb27ef3d78",
   "metadata": {},
   "outputs": [
    {
     "data": {
      "text/plain": [
       "['False',\n",
       " 'None',\n",
       " 'True',\n",
       " 'and',\n",
       " 'as',\n",
       " 'assert',\n",
       " 'async',\n",
       " 'await',\n",
       " 'break',\n",
       " 'class',\n",
       " 'continue',\n",
       " 'def',\n",
       " 'del',\n",
       " 'elif',\n",
       " 'else',\n",
       " 'except',\n",
       " 'finally',\n",
       " 'for',\n",
       " 'from',\n",
       " 'global',\n",
       " 'if',\n",
       " 'import',\n",
       " 'in',\n",
       " 'is',\n",
       " 'lambda',\n",
       " 'nonlocal',\n",
       " 'not',\n",
       " 'or',\n",
       " 'pass',\n",
       " 'raise',\n",
       " 'return',\n",
       " 'try',\n",
       " 'while',\n",
       " 'with',\n",
       " 'yield']"
      ]
     },
     "execution_count": 49,
     "metadata": {},
     "output_type": "execute_result"
    }
   ],
   "source": [
    "import keyword\n",
    "keyword.kwlist"
   ]
  },
  {
   "cell_type": "code",
   "execution_count": 51,
   "id": "81ac420d-f211-47bd-b641-2982d873c419",
   "metadata": {},
   "outputs": [
    {
     "data": {
      "text/plain": [
       "35"
      ]
     },
     "execution_count": 51,
     "metadata": {},
     "output_type": "execute_result"
    }
   ],
   "source": [
    "len(keyword.kwlist)"
   ]
  },
  {
   "cell_type": "markdown",
   "id": "4091b364-4461-4f93-b255-42c2220ba059",
   "metadata": {},
   "source": [
    "VARIABLES"
   ]
  },
  {
   "cell_type": "code",
   "execution_count": 3,
   "id": "1acecb50-6c0f-4687-b1a5-8901c4e87d59",
   "metadata": {},
   "outputs": [
    {
     "data": {
      "text/plain": [
       "5"
      ]
     },
     "execution_count": 3,
     "metadata": {},
     "output_type": "execute_result"
    }
   ],
   "source": [
    "a = 5\n",
    "a"
   ]
  },
  {
   "cell_type": "code",
   "execution_count": 5,
   "id": "32b2d442-b25a-4b2a-b1ca-f957f5c747ae",
   "metadata": {},
   "outputs": [
    {
     "data": {
      "text/plain": [
       "int"
      ]
     },
     "execution_count": 5,
     "metadata": {},
     "output_type": "execute_result"
    }
   ],
   "source": [
    "type(a)"
   ]
  },
  {
   "cell_type": "code",
   "execution_count": 7,
   "id": "228da413-5c82-445e-8af3-4edb8dafb50d",
   "metadata": {},
   "outputs": [
    {
     "data": {
      "text/plain": [
       "140729818884664"
      ]
     },
     "execution_count": 7,
     "metadata": {},
     "output_type": "execute_result"
    }
   ],
   "source": [
    "id(a)"
   ]
  },
  {
   "cell_type": "code",
   "execution_count": 54,
   "id": "63b9cf74-1f3a-4e4b-8d2e-7b356e3ee32a",
   "metadata": {},
   "outputs": [
    {
     "data": {
      "text/plain": [
       "5.5"
      ]
     },
     "execution_count": 54,
     "metadata": {},
     "output_type": "execute_result"
    }
   ],
   "source": [
    "b = 5.5\n",
    "b"
   ]
  },
  {
   "cell_type": "code",
   "execution_count": 56,
   "id": "41278a66-45a9-42e5-a0c3-e453425a3a78",
   "metadata": {},
   "outputs": [
    {
     "data": {
      "text/plain": [
       "float"
      ]
     },
     "execution_count": 56,
     "metadata": {},
     "output_type": "execute_result"
    }
   ],
   "source": [
    "type(b)"
   ]
  },
  {
   "cell_type": "code",
   "execution_count": 7,
   "id": "e5aa254e-66e5-40a5-b6e1-b8a7d483e055",
   "metadata": {},
   "outputs": [
    {
     "data": {
      "text/plain": [
       "'Siddhi Jain'"
      ]
     },
     "execution_count": 7,
     "metadata": {},
     "output_type": "execute_result"
    }
   ],
   "source": [
    "name = \"Siddhi Jain\"\n",
    "name"
   ]
  },
  {
   "cell_type": "code",
   "execution_count": 3,
   "id": "567b5267-79f8-490e-99d8-76b7326d4450",
   "metadata": {},
   "outputs": [
    {
     "data": {
      "text/plain": [
       "17"
      ]
     },
     "execution_count": 3,
     "metadata": {},
     "output_type": "execute_result"
    }
   ],
   "source": [
    "age = 17\n",
    "age"
   ]
  },
  {
   "cell_type": "code",
   "execution_count": 9,
   "id": "2a66c2ab-18b3-4c87-bc33-c785391ab3d1",
   "metadata": {},
   "outputs": [
    {
     "data": {
      "text/plain": [
       "20.2"
      ]
     },
     "execution_count": 9,
     "metadata": {},
     "output_type": "execute_result"
    }
   ],
   "source": [
    "price = 20.20\n",
    "price"
   ]
  },
  {
   "cell_type": "code",
   "execution_count": 11,
   "id": "75cc4947-c3ef-4d57-b10f-6eda0aa43b60",
   "metadata": {},
   "outputs": [
    {
     "data": {
      "text/plain": [
       "True"
      ]
     },
     "execution_count": 11,
     "metadata": {},
     "output_type": "execute_result"
    }
   ],
   "source": [
    "is_active = True\n",
    "is_active"
   ]
  },
  {
   "cell_type": "markdown",
   "id": "8ca65b00-933e-44c4-bf54-cacd79adc775",
   "metadata": {},
   "source": [
    "1. SORTING AND PRINTING A VALUE"
   ]
  },
  {
   "cell_type": "code",
   "execution_count": 13,
   "id": "a0618944-913d-4ad6-87be-9d713f4edde4",
   "metadata": {},
   "outputs": [
    {
     "data": {
      "text/plain": [
       "10"
      ]
     },
     "execution_count": 13,
     "metadata": {},
     "output_type": "execute_result"
    }
   ],
   "source": [
    "x = 10\n",
    "x"
   ]
  },
  {
   "cell_type": "markdown",
   "id": "0599e942-af06-406f-bdb6-3bee4f953baf",
   "metadata": {},
   "source": [
    "2. USING VARIABLE IN EXTENTION"
   ]
  },
  {
   "cell_type": "code",
   "execution_count": 15,
   "id": "f880f7b8-eec8-44de-8a05-1ab361001516",
   "metadata": {},
   "outputs": [
    {
     "data": {
      "text/plain": [
       "5"
      ]
     },
     "execution_count": 15,
     "metadata": {},
     "output_type": "execute_result"
    }
   ],
   "source": [
    "a = 2\n",
    "b = 3\n",
    "result = 2+3\n",
    "result"
   ]
  },
  {
   "cell_type": "markdown",
   "id": "65455ef4-8d4a-4120-bba1-d626874e6386",
   "metadata": {},
   "source": [
    "3. CHANGING THE VALUE OF A VARIABLE"
   ]
  },
  {
   "cell_type": "code",
   "execution_count": 23,
   "id": "1a2cfbf1-186b-4df1-9443-2cdea2bb94c6",
   "metadata": {},
   "outputs": [
    {
     "data": {
      "text/plain": [
       "100"
      ]
     },
     "execution_count": 23,
     "metadata": {},
     "output_type": "execute_result"
    }
   ],
   "source": [
    "score = 50\n",
    "score\n",
    "score = 100\n",
    "score"
   ]
  },
  {
   "cell_type": "markdown",
   "id": "e6fc0094-701d-4100-b108-1f8397ab0b09",
   "metadata": {},
   "source": [
    "4. CONCATINATING STRINGS"
   ]
  },
  {
   "cell_type": "code",
   "execution_count": 25,
   "id": "03ca0882-8ef4-4704-9891-9786356a2a11",
   "metadata": {},
   "outputs": [
    {
     "data": {
      "text/plain": [
       "'siddhi jain'"
      ]
     },
     "execution_count": 25,
     "metadata": {},
     "output_type": "execute_result"
    }
   ],
   "source": [
    "first_name = \"siddhi\"\n",
    "last_name = \"jain\"\n",
    "full_name = first_name+\" \"+last_name\n",
    "full_name"
   ]
  },
  {
   "cell_type": "markdown",
   "id": "e50ad0f4-8bd1-4f34-a8ae-8b5f23ae6024",
   "metadata": {},
   "source": [
    "5. USING VARIABLE IN CALCULATION"
   ]
  },
  {
   "cell_type": "code",
   "execution_count": 27,
   "id": "e1dc7989-af17-4212-b949-d1e9a6403b71",
   "metadata": {},
   "outputs": [
    {
     "data": {
      "text/plain": [
       "50"
      ]
     },
     "execution_count": 27,
     "metadata": {},
     "output_type": "execute_result"
    }
   ],
   "source": [
    "length = 10\n",
    "width = 5\n",
    "area = length * width\n",
    "area"
   ]
  },
  {
   "cell_type": "code",
   "execution_count": 37,
   "id": "79c4edbe-f976-43bf-93ee-73a5ddc7d6f9",
   "metadata": {},
   "outputs": [
    {
     "data": {
      "text/plain": [
       "20"
      ]
     },
     "execution_count": 37,
     "metadata": {},
     "output_type": "execute_result"
    }
   ],
   "source": [
    "x = 10 \n",
    "x\n",
    "x = 20\n",
    "x"
   ]
  },
  {
   "cell_type": "code",
   "execution_count": 58,
   "id": "7505977a-b6ac-4f47-ac43-76cc9bfeae86",
   "metadata": {},
   "outputs": [
    {
     "data": {
      "text/plain": [
       "10"
      ]
     },
     "execution_count": 58,
     "metadata": {},
     "output_type": "execute_result"
    }
   ],
   "source": [
    "a = 20\n",
    "b = 30\n",
    "c = 10\n",
    "a\n",
    "b\n",
    "c"
   ]
  },
  {
   "cell_type": "code",
   "execution_count": 66,
   "id": "0f48fea4-53c5-4e1e-b130-f51820453702",
   "metadata": {},
   "outputs": [
    {
     "name": "stdout",
     "output_type": "stream",
     "text": [
      "20 30 10\n"
     ]
    }
   ],
   "source": [
    "print(a,b,c)"
   ]
  },
  {
   "cell_type": "code",
   "execution_count": 68,
   "id": "c010e46b-92b4-4eeb-803f-6d10e5f099a6",
   "metadata": {},
   "outputs": [
    {
     "data": {
      "text/plain": [
       "173"
      ]
     },
     "execution_count": 68,
     "metadata": {},
     "output_type": "execute_result"
    }
   ],
   "source": [
    "_nit = 173\n",
    "_nit"
   ]
  },
  {
   "cell_type": "markdown",
   "id": "3d156390-b14c-48c3-9276-01c61a11d451",
   "metadata": {},
   "source": [
    "INT"
   ]
  },
  {
   "cell_type": "code",
   "execution_count": 71,
   "id": "065b91a0-079b-4951-8a21-a05f499e44aa",
   "metadata": {},
   "outputs": [
    {
     "data": {
      "text/plain": [
       "4"
      ]
     },
     "execution_count": 71,
     "metadata": {},
     "output_type": "execute_result"
    }
   ],
   "source": [
    "i=4\n",
    "i"
   ]
  },
  {
   "cell_type": "code",
   "execution_count": 73,
   "id": "7a8cbdeb-9853-4585-9dfd-527f0da7d742",
   "metadata": {},
   "outputs": [
    {
     "name": "stdout",
     "output_type": "stream",
     "text": [
      "<class 'int'>\n"
     ]
    }
   ],
   "source": [
    "print(type(i))"
   ]
  },
  {
   "cell_type": "markdown",
   "id": "9c13cef0-3be4-4791-aa18-04af12d2ac87",
   "metadata": {},
   "source": [
    "FLOAT"
   ]
  },
  {
   "cell_type": "code",
   "execution_count": 75,
   "id": "11ebe0e9-a9d4-4751-8206-46be730d6ae2",
   "metadata": {},
   "outputs": [
    {
     "name": "stdout",
     "output_type": "stream",
     "text": [
      "110.78\n",
      "<class 'float'>\n"
     ]
    }
   ],
   "source": [
    "f = 110.78\n",
    "print(f)\n",
    "print(type(f))"
   ]
  },
  {
   "cell_type": "code",
   "execution_count": 21,
   "id": "96242988-2e84-422a-b302-b711a706603b",
   "metadata": {},
   "outputs": [
    {
     "data": {
      "text/plain": [
       "1"
      ]
     },
     "execution_count": 21,
     "metadata": {},
     "output_type": "execute_result"
    }
   ],
   "source": [
    "True + False "
   ]
  },
  {
   "cell_type": "code",
   "execution_count": 23,
   "id": "ff6532d4-0832-4c6e-ba8e-d87d9885dbe6",
   "metadata": {},
   "outputs": [
    {
     "data": {
      "text/plain": [
       "3.0"
      ]
     },
     "execution_count": 23,
     "metadata": {},
     "output_type": "execute_result"
    }
   ],
   "source": [
    "f1 = 3e0\n",
    "f1"
   ]
  },
  {
   "cell_type": "code",
   "execution_count": 27,
   "id": "077cea4c-57a6-43b0-be71-cd2b9c3652ac",
   "metadata": {},
   "outputs": [
    {
     "data": {
      "text/plain": [
       "30.0"
      ]
     },
     "execution_count": 27,
     "metadata": {},
     "output_type": "execute_result"
    }
   ],
   "source": [
    "f2 = 3e1\n",
    "f2"
   ]
  },
  {
   "cell_type": "code",
   "execution_count": 31,
   "id": "7504347d-a000-4632-b22a-ef9f439c15d2",
   "metadata": {},
   "outputs": [
    {
     "data": {
      "text/plain": [
       "300.0"
      ]
     },
     "execution_count": 31,
     "metadata": {},
     "output_type": "execute_result"
    }
   ],
   "source": [
    "f3 = 3e2\n",
    "f3"
   ]
  },
  {
   "cell_type": "code",
   "execution_count": 35,
   "id": "0c22e73c-0780-4953-9910-f29d2fa06d32",
   "metadata": {},
   "outputs": [
    {
     "data": {
      "text/plain": [
       "2300.0"
      ]
     },
     "execution_count": 35,
     "metadata": {},
     "output_type": "execute_result"
    }
   ],
   "source": [
    "f4 = 2.3e3\n",
    "f4"
   ]
  },
  {
   "cell_type": "markdown",
   "id": "1e1a3d75-df3c-4959-ab68-4b7c9a1cd510",
   "metadata": {},
   "source": [
    "BOOLEAN"
   ]
  },
  {
   "cell_type": "code",
   "execution_count": 77,
   "id": "30efeca0-0b67-4bd6-b91f-d7d00330781d",
   "metadata": {},
   "outputs": [
    {
     "ename": "NameError",
     "evalue": "name 'true' is not defined",
     "output_type": "error",
     "traceback": [
      "\u001b[1;31m---------------------------------------------------------------------------\u001b[0m",
      "\u001b[1;31mNameError\u001b[0m                                 Traceback (most recent call last)",
      "Cell \u001b[1;32mIn[77], line 1\u001b[0m\n\u001b[1;32m----> 1\u001b[0m true\n",
      "\u001b[1;31mNameError\u001b[0m: name 'true' is not defined"
     ]
    }
   ],
   "source": [
    "true"
   ]
  },
  {
   "cell_type": "code",
   "execution_count": 11,
   "id": "9ad6f1cf-8356-4620-af66-8f651ed17576",
   "metadata": {},
   "outputs": [
    {
     "data": {
      "text/plain": [
       "True"
      ]
     },
     "execution_count": 11,
     "metadata": {},
     "output_type": "execute_result"
    }
   ],
   "source": [
    "True"
   ]
  },
  {
   "cell_type": "code",
   "execution_count": 81,
   "id": "627eeba5-2f60-4298-acce-e1b12c2b0a2d",
   "metadata": {},
   "outputs": [
    {
     "data": {
      "text/plain": [
       "False"
      ]
     },
     "execution_count": 81,
     "metadata": {},
     "output_type": "execute_result"
    }
   ],
   "source": [
    "False"
   ]
  },
  {
   "cell_type": "code",
   "execution_count": 29,
   "id": "b368b8c1-ca9b-4a16-a92c-c4bbfa598d6d",
   "metadata": {},
   "outputs": [
    {
     "data": {
      "text/plain": [
       "1"
      ]
     },
     "execution_count": 29,
     "metadata": {},
     "output_type": "execute_result"
    }
   ],
   "source": [
    "True + False * True - False"
   ]
  },
  {
   "cell_type": "code",
   "execution_count": 37,
   "id": "9627dc12-68a5-45f7-86bd-41158fef980b",
   "metadata": {},
   "outputs": [
    {
     "data": {
      "text/plain": [
       "1"
      ]
     },
     "execution_count": 37,
     "metadata": {},
     "output_type": "execute_result"
    }
   ],
   "source": [
    "True + (False * False) - False"
   ]
  },
  {
   "cell_type": "code",
   "execution_count": 39,
   "id": "52dcf85a-1c5d-44c2-bfd5-055a25e376cf",
   "metadata": {},
   "outputs": [
    {
     "data": {
      "text/plain": [
       "0"
      ]
     },
     "execution_count": 39,
     "metadata": {},
     "output_type": "execute_result"
    }
   ],
   "source": [
    "True + (False * False) - True"
   ]
  },
  {
   "cell_type": "code",
   "execution_count": 83,
   "id": "066519a4-9cb4-46f3-ac9d-84d927345098",
   "metadata": {},
   "outputs": [
    {
     "data": {
      "text/plain": [
       "12"
      ]
     },
     "execution_count": 83,
     "metadata": {},
     "output_type": "execute_result"
    }
   ],
   "source": [
    "num1 = 5\n",
    "num2 = 7\n",
    "add = num1 + num2\n",
    "add"
   ]
  },
  {
   "cell_type": "code",
   "execution_count": 87,
   "id": "820c294d-4ca2-4a90-ba66-8dc6c8588ebf",
   "metadata": {},
   "outputs": [
    {
     "name": "stdout",
     "output_type": "stream",
     "text": [
      "the addition of 5 and 7 is 12\n"
     ]
    }
   ],
   "source": [
    "num1 = 5\n",
    "num2 = 7\n",
    "add = num1 + num2\n",
    "print( 'the addition of',num1,'and',num2,'is',add)"
   ]
  },
  {
   "cell_type": "markdown",
   "id": "44ad503f-23b8-467d-b93c-21fc9cbf734f",
   "metadata": {},
   "source": [
    "COMPLEX"
   ]
  },
  {
   "cell_type": "code",
   "execution_count": 99,
   "id": "50efdeee-ae21-4a22-91a4-ffcc0656ac0f",
   "metadata": {},
   "outputs": [
    {
     "data": {
      "text/plain": [
       "(10+20j)"
      ]
     },
     "execution_count": 99,
     "metadata": {},
     "output_type": "execute_result"
    }
   ],
   "source": [
    "c = 10 + 20j\n",
    "c"
   ]
  },
  {
   "cell_type": "code",
   "execution_count": 97,
   "id": "54391d7b-fde3-436e-81af-06bece8cc3ea",
   "metadata": {},
   "outputs": [
    {
     "data": {
      "text/plain": [
       "complex"
      ]
     },
     "execution_count": 97,
     "metadata": {},
     "output_type": "execute_result"
    }
   ],
   "source": [
    "type(c)"
   ]
  },
  {
   "cell_type": "code",
   "execution_count": 101,
   "id": "3afc4e39-66ec-4868-a8e8-d07944af5a99",
   "metadata": {},
   "outputs": [
    {
     "data": {
      "text/plain": [
       "(30+40j)"
      ]
     },
     "execution_count": 101,
     "metadata": {},
     "output_type": "execute_result"
    }
   ],
   "source": [
    "d = 30 + 40j\n",
    "d"
   ]
  },
  {
   "cell_type": "code",
   "execution_count": 103,
   "id": "e4f8dd70-8720-4124-ab74-7ae592c4c23e",
   "metadata": {},
   "outputs": [
    {
     "name": "stdout",
     "output_type": "stream",
     "text": [
      "(10+20j)\n",
      "(30+40j)\n"
     ]
    }
   ],
   "source": [
    "print(c)\n",
    "print(d)"
   ]
  },
  {
   "cell_type": "code",
   "execution_count": 105,
   "id": "56554caf-afca-4807-b15a-e64f52c4afcc",
   "metadata": {},
   "outputs": [
    {
     "name": "stdout",
     "output_type": "stream",
     "text": [
      "(40+60j)\n"
     ]
    }
   ],
   "source": [
    "print(c+d)"
   ]
  },
  {
   "cell_type": "code",
   "execution_count": 107,
   "id": "47fbb7cf-1746-4180-934f-be0ece4c44bc",
   "metadata": {},
   "outputs": [
    {
     "data": {
      "text/plain": [
       "(-20-20j)"
      ]
     },
     "execution_count": 107,
     "metadata": {},
     "output_type": "execute_result"
    }
   ],
   "source": [
    "c - d"
   ]
  },
  {
   "cell_type": "code",
   "execution_count": 109,
   "id": "8d7cf2a2-29ea-4cdd-9e3e-d7bf7895af6c",
   "metadata": {},
   "outputs": [
    {
     "data": {
      "text/plain": [
       "'5.5'"
      ]
     },
     "execution_count": 109,
     "metadata": {},
     "output_type": "execute_result"
    }
   ],
   "source": [
    "a = '5.5'\n",
    "a"
   ]
  },
  {
   "cell_type": "code",
   "execution_count": 111,
   "id": "fabe6f53-c272-4fd3-955f-97561957212e",
   "metadata": {},
   "outputs": [
    {
     "data": {
      "text/plain": [
       "str"
      ]
     },
     "execution_count": 111,
     "metadata": {},
     "output_type": "execute_result"
    }
   ],
   "source": [
    "type(a)"
   ]
  },
  {
   "cell_type": "code",
   "execution_count": 113,
   "id": "2de1fa45-ba8e-4292-a581-e14defc38d48",
   "metadata": {},
   "outputs": [
    {
     "data": {
      "text/plain": [
       "10.0"
      ]
     },
     "execution_count": 113,
     "metadata": {},
     "output_type": "execute_result"
    }
   ],
   "source": [
    "c.real"
   ]
  },
  {
   "cell_type": "code",
   "execution_count": 117,
   "id": "479044d2-90f3-4c44-b799-2870f56bc539",
   "metadata": {},
   "outputs": [
    {
     "data": {
      "text/plain": [
       "20.0"
      ]
     },
     "execution_count": 117,
     "metadata": {},
     "output_type": "execute_result"
    }
   ],
   "source": [
    "c.imag"
   ]
  },
  {
   "cell_type": "markdown",
   "id": "184db083-8a17-410e-b753-c015e5702c2e",
   "metadata": {},
   "source": [
    "PRINT FUNTIONS"
   ]
  },
  {
   "cell_type": "code",
   "execution_count": 14,
   "id": "5fc707b7-d62d-497c-b1fb-671998ef5ff0",
   "metadata": {},
   "outputs": [
    {
     "name": "stdout",
     "output_type": "stream",
     "text": [
      "10 20\n"
     ]
    }
   ],
   "source": [
    "a = 10\n",
    "b = 20\n",
    "print(a,b)"
   ]
  },
  {
   "cell_type": "code",
   "execution_count": 16,
   "id": "e5de55c2-a4db-429c-a27f-2acf7e67d2b2",
   "metadata": {},
   "outputs": [
    {
     "name": "stdout",
     "output_type": "stream",
     "text": [
      "10\n",
      "10 20\n",
      "python\n",
      "10 20 python\n"
     ]
    }
   ],
   "source": [
    "print(10)\n",
    "print(10,20)\n",
    "print('python')\n",
    "print(10,20,'python')"
   ]
  },
  {
   "cell_type": "markdown",
   "id": "efccbc32-460d-4346-8ad9-f71927eec398",
   "metadata": {},
   "source": [
    "PRINT RESULT WITH STRING"
   ]
  },
  {
   "cell_type": "code",
   "execution_count": 21,
   "id": "556a195b-bdab-4b99-b526-22bda31d8cdf",
   "metadata": {},
   "outputs": [
    {
     "name": "stdout",
     "output_type": "stream",
     "text": [
      "the addition of 100 and 176 is 276\n"
     ]
    }
   ],
   "source": [
    "num1 = 100\n",
    "num2 = 176\n",
    "add = num1 + num2\n",
    "print('the addition of',num1,'and',num2,'is',add)"
   ]
  },
  {
   "cell_type": "code",
   "execution_count": 25,
   "id": "485dfe6d-1a98-4e22-9790-a9cbce84bae4",
   "metadata": {},
   "outputs": [
    {
     "name": "stdout",
     "output_type": "stream",
     "text": [
      "hello my name is Siddhi Jain I am 17 years old and I live in narsapur\n"
     ]
    }
   ],
   "source": [
    "name = 'Siddhi Jain'\n",
    "age = 17\n",
    "place = 'narsapur'\n",
    "print('hello my name is',name,'I am',age,'years old and I live in',place)"
   ]
  },
  {
   "cell_type": "markdown",
   "id": "08e59d2c-767a-46c1-9ce7-be60e96e6502",
   "metadata": {},
   "source": [
    "PRINT FORMAT METHOD"
   ]
  },
  {
   "cell_type": "code",
   "execution_count": 27,
   "id": "e7e8f239-364c-43a9-ac6e-4ad352c35f50",
   "metadata": {},
   "outputs": [
    {
     "name": "stdout",
     "output_type": "stream",
     "text": [
      "the addition of 65 and 75 is 140\n"
     ]
    }
   ],
   "source": [
    "num1 = 65\n",
    "num2 = 75\n",
    "add = num1 + num2\n",
    "print('the addition of {} and {} is {}'. format(num1,num2,add))"
   ]
  },
  {
   "cell_type": "code",
   "execution_count": 29,
   "id": "cb014dae-0b5d-435f-be80-a6c746d4c63c",
   "metadata": {},
   "outputs": [
    {
     "name": "stdout",
     "output_type": "stream",
     "text": [
      "hello my name is Siddhi Jain I am 17 years old and I live in narsapur\n"
     ]
    }
   ],
   "source": [
    "name = 'Siddhi Jain'\n",
    "age = 17\n",
    "place = 'narsapur'\n",
    "print('hello my name is {} I am {} years old and I live in {}'.format(name,age,place))"
   ]
  },
  {
   "cell_type": "code",
   "execution_count": 31,
   "id": "7485f920-47b5-4ac1-b171-33169cd0512c",
   "metadata": {},
   "outputs": [
    {
     "name": "stdout",
     "output_type": "stream",
     "text": [
      "the average of three numbers is 2947.0\n"
     ]
    }
   ],
   "source": [
    "num1 = 7823\n",
    "num2 = 821\n",
    "num3 = 197\n",
    "avg = (num1+num2+num3)/3\n",
    "print('the average of three numbers is {}'.format(avg))"
   ]
  },
  {
   "cell_type": "code",
   "execution_count": 33,
   "id": "aaa292c1-f161-45aa-b138-242bc8367dcf",
   "metadata": {},
   "outputs": [
    {
     "data": {
      "text/plain": [
       "2947.0"
      ]
     },
     "execution_count": 33,
     "metadata": {},
     "output_type": "execute_result"
    }
   ],
   "source": [
    "round(avg,2)"
   ]
  },
  {
   "cell_type": "code",
   "execution_count": 37,
   "id": "34de5e5b-9762-4cea-a856-02d5a41bddcc",
   "metadata": {},
   "outputs": [
    {
     "name": "stdout",
     "output_type": "stream",
     "text": [
      "the addition of 65 and 75 is 140\n"
     ]
    }
   ],
   "source": [
    "num1 = 65\n",
    "num2 = 75\n",
    "add = num1 + num2\n",
    "print(f'the addition of {num1} and {num2} is {add}')"
   ]
  },
  {
   "cell_type": "code",
   "execution_count": 43,
   "id": "98687c56-2881-462f-87b8-cebe504545df",
   "metadata": {},
   "outputs": [
    {
     "name": "stdout",
     "output_type": "stream",
     "text": [
      "my name is Siddhi Jain I am 17 years old and I live in narsapur\n"
     ]
    }
   ],
   "source": [
    "name = 'Siddhi Jain'\n",
    "age = 17\n",
    "place = 'narsapur'\n",
    "print(f'my name is {name} I am {17} years old and I live in {place}')"
   ]
  },
  {
   "cell_type": "code",
   "execution_count": 62,
   "id": "90b50f29-96e8-40f6-b1dc-8b892a37da3d",
   "metadata": {},
   "outputs": [
    {
     "name": "stdout",
     "output_type": "stream",
     "text": [
      "the addition of 65 and 75 is 140\n",
      "the addition of 65 and 75 is 140\n",
      "the addition of 65 and 75 is 140\n"
     ]
    }
   ],
   "source": [
    "num1 = 65\n",
    "num2 = 75\n",
    "add = num1 + num2\n",
    "print('the addition of',num1,'and',num2,'is',add)\n",
    "\n",
    "print('the addition of {} and {} is {}'.format(num1,num2,add))\n",
    "\n",
    "print(f'the addition of {num1} and {num2} is {add}')"
   ]
  },
  {
   "cell_type": "code",
   "execution_count": 64,
   "id": "50284349-576c-475a-bae5-2a53c726d4d6",
   "metadata": {},
   "outputs": [
    {
     "name": "stdout",
     "output_type": "stream",
     "text": [
      "hello\n",
      "good morning\n"
     ]
    }
   ],
   "source": [
    "print('hello')\n",
    "print('good morning')"
   ]
  },
  {
   "cell_type": "code",
   "execution_count": 72,
   "id": "2a723e16-c79a-41c0-b410-a44a42ffe04e",
   "metadata": {},
   "outputs": [
    {
     "name": "stdout",
     "output_type": "stream",
     "text": [
      "hello\n",
      "good morning\n"
     ]
    }
   ],
   "source": [
    "print('''hello\n",
    "good morning''')"
   ]
  },
  {
   "cell_type": "markdown",
   "id": "6013ea19-4e05-4626-a9a9-c216cd8bbb95",
   "metadata": {},
   "source": [
    "END STATEMENT"
   ]
  },
  {
   "cell_type": "code",
   "execution_count": 84,
   "id": "0c37b639-b70e-4f38-9a21-e07d42aab461",
   "metadata": {},
   "outputs": [
    {
     "name": "stdout",
     "output_type": "stream",
     "text": [
      "hello world good day\n"
     ]
    }
   ],
   "source": [
    "print('hello' , end = ' ')\n",
    "print('world good day')"
   ]
  },
  {
   "cell_type": "markdown",
   "id": "102b62d3-ceab-4dc2-8799-8ee61c819314",
   "metadata": {},
   "source": [
    "SEPERATOR"
   ]
  },
  {
   "cell_type": "code",
   "execution_count": 100,
   "id": "d107f0c4-74bf-4534-908d-d1f17ad6245f",
   "metadata": {},
   "outputs": [
    {
     "name": "stdout",
     "output_type": "stream",
     "text": [
      "hello---->hii---->how are you\n"
     ]
    }
   ],
   "source": [
    "print('hello','hii','how are you',sep =\"---->\")"
   ]
  },
  {
   "cell_type": "code",
   "execution_count": 110,
   "id": "1d3176bd-0a5c-4ef4-b7b4-f956b94548ff",
   "metadata": {},
   "outputs": [
    {
     "name": "stdout",
     "output_type": "stream",
     "text": [
      "hello & hii & how are you\n"
     ]
    }
   ],
   "source": [
    "print('hello','hii','how are you',sep =' & ')"
   ]
  },
  {
   "cell_type": "code",
   "execution_count": 1,
   "id": "0af5e403-4d3a-45fe-917c-75b1f41746d1",
   "metadata": {},
   "outputs": [
    {
     "name": "stdout",
     "output_type": "stream",
     "text": [
      "hello @ hii @ how are you\n"
     ]
    }
   ],
   "source": [
    "print('hello','hii','how are you',sep = ' @ ')"
   ]
  },
  {
   "cell_type": "code",
   "execution_count": 120,
   "id": "6ac03b83-99eb-4025-8aba-2f3027639171",
   "metadata": {},
   "outputs": [
    {
     "name": "stdout",
     "output_type": "stream",
     "text": [
      "3 .\n"
     ]
    }
   ],
   "source": [
    "print(3,'.')"
   ]
  },
  {
   "cell_type": "code",
   "execution_count": 132,
   "id": "372510e3-d132-43cf-90e6-eca0098b75ae",
   "metadata": {},
   "outputs": [
    {
     "name": "stdout",
     "output_type": "stream",
     "text": [
      "3.\n"
     ]
    }
   ],
   "source": [
    "print(3,'.',sep='')"
   ]
  },
  {
   "cell_type": "code",
   "execution_count": 134,
   "id": "b22936d6-f8b4-4979-9fbd-eecc3a28afa4",
   "metadata": {},
   "outputs": [
    {
     "name": "stdout",
     "output_type": "stream",
     "text": [
      "1 2 3.\n"
     ]
    }
   ],
   "source": [
    "print(1,2,end=' ')\n",
    "print(3,'.',sep='')"
   ]
  },
  {
   "cell_type": "code",
   "execution_count": 1,
   "id": "e610bf9a-d338-4af8-afae-c744f939a9d9",
   "metadata": {},
   "outputs": [
    {
     "name": "stdout",
     "output_type": "stream",
     "text": [
      "hello world\n"
     ]
    }
   ],
   "source": [
    "print(\"hello world\")"
   ]
  },
  {
   "cell_type": "code",
   "execution_count": 3,
   "id": "ce47cc7c-9ca7-4f3b-bfd4-93659178efef",
   "metadata": {},
   "outputs": [
    {
     "name": "stdout",
     "output_type": "stream",
     "text": [
      "the value of x is 10 and the value of y is 20\n"
     ]
    }
   ],
   "source": [
    "x = 10 \n",
    "y = 20\n",
    "print(\"the value of x is\",x,\"and the value of y is\",y)"
   ]
  },
  {
   "cell_type": "code",
   "execution_count": 5,
   "id": "936b7214-bbdf-445a-8446-f36f1e8a7977",
   "metadata": {},
   "outputs": [
    {
     "name": "stdout",
     "output_type": "stream",
     "text": [
      "apple,banana,cherry\n"
     ]
    }
   ],
   "source": [
    "print(\"apple\",\"banana\",\"cherry\",sep = \",\")"
   ]
  },
  {
   "cell_type": "code",
   "execution_count": 9,
   "id": "747a90eb-39bd-4905-9100-6f3938f1bacf",
   "metadata": {},
   "outputs": [
    {
     "name": "stdout",
     "output_type": "stream",
     "text": [
      "hello world\n"
     ]
    }
   ],
   "source": [
    "print(\"hello\", end=\" \")\n",
    "print(\"world\")"
   ]
  },
  {
   "cell_type": "code",
   "execution_count": 19,
   "id": "55359548-2eb6-4cae-8f0c-b505335c7f55",
   "metadata": {},
   "outputs": [
    {
     "name": "stdout",
     "output_type": "stream",
     "text": [
      "My name is Siddhi Jain and I am 17 years old\n"
     ]
    }
   ],
   "source": [
    "name = \"Siddhi Jain\"\n",
    "age = 17\n",
    "print(\"My name is %s and I am %d years old\" % (name, age))"
   ]
  },
  {
   "cell_type": "code",
   "execution_count": 21,
   "id": "2ea436cb-a01d-4416-a642-6cb87675e8fc",
   "metadata": {},
   "outputs": [
    {
     "name": "stdout",
     "output_type": "stream",
     "text": [
      "hello\n",
      "world\n"
     ]
    }
   ],
   "source": [
    "print(\"hello\\nworld\")"
   ]
  },
  {
   "cell_type": "code",
   "execution_count": 27,
   "id": "2637643a-3519-42e7-87eb-556ab79f6714",
   "metadata": {},
   "outputs": [
    {
     "name": "stdout",
     "output_type": "stream",
     "text": [
      "apple\tbanana\tcherry\n"
     ]
    }
   ],
   "source": [
    "print(\"apple\\tbanana\\tcherry\")"
   ]
  },
  {
   "cell_type": "markdown",
   "id": "c1571177-677c-4a5e-bb96-f4bb6ffc1ae4",
   "metadata": {},
   "source": [
    "***PYTHON IDENTIFIER"
   ]
  },
  {
   "cell_type": "code",
   "execution_count": 18,
   "id": "6de4e8d6-9508-4357-bf5d-89ab8371d4fd",
   "metadata": {},
   "outputs": [
    {
     "name": "stdout",
     "output_type": "stream",
     "text": [
      "hello, Maaa!\n"
     ]
    }
   ],
   "source": [
    "def greet(name):\n",
    "    print(f\"hello, {name}!\")\n",
    "\n",
    "greet(\"Maaa\")"
   ]
  },
  {
   "cell_type": "code",
   "execution_count": 41,
   "id": "0e34e1d6-6e9e-4cf6-bf2c-66f946136ca1",
   "metadata": {},
   "outputs": [
    {
     "name": "stdout",
     "output_type": "stream",
     "text": [
      "3.141592653589793\n"
     ]
    }
   ],
   "source": [
    "import math\n",
    "print(math.pi)"
   ]
  },
  {
   "cell_type": "markdown",
   "id": "07bd1a84-b47d-4a84-b6c2-680776673b7f",
   "metadata": {},
   "source": [
    "PYTHON TURTORIAL"
   ]
  },
  {
   "cell_type": "code",
   "execution_count": null,
   "id": "0268b35c-f866-46b7-829d-24bdce034b18",
   "metadata": {},
   "outputs": [],
   "source": [
    "import sys\n",
    "import keyword\n",
    "import operator\n",
    "from datetime import datetime\n",
    "import os"
   ]
  },
  {
   "cell_type": "code",
   "execution_count": 53,
   "id": "603bf07e-82fa-452a-9fa7-c1a633e00815",
   "metadata": {},
   "outputs": [
    {
     "name": "stdout",
     "output_type": "stream",
     "text": [
      "['False', 'None', 'True', 'and', 'as', 'assert', 'async', 'await', 'break', 'class', 'continue', 'def', 'del', 'elif', 'else', 'except', 'finally', 'for', 'from', 'global', 'if', 'import', 'in', 'is', 'lambda', 'nonlocal', 'not', 'or', 'pass', 'raise', 'return', 'try', 'while', 'with', 'yield']\n"
     ]
    }
   ],
   "source": [
    "import keyword\n",
    "print(keyword.kwlist)"
   ]
  },
  {
   "cell_type": "code",
   "execution_count": 55,
   "id": "9fcc357d-4f53-4736-8c5d-dcd8c88161c5",
   "metadata": {},
   "outputs": [
    {
     "data": {
      "text/plain": [
       "35"
      ]
     },
     "execution_count": 55,
     "metadata": {},
     "output_type": "execute_result"
    }
   ],
   "source": [
    "len(keyword.kwlist)"
   ]
  },
  {
   "cell_type": "code",
   "execution_count": 61,
   "id": "dd4bcb65-662c-47d1-ba07-52542b9a5ccf",
   "metadata": {},
   "outputs": [],
   "source": [
    "val1 = 10"
   ]
  },
  {
   "cell_type": "code",
   "execution_count": 65,
   "id": "b781c523-b852-456e-9344-49c4db204348",
   "metadata": {},
   "outputs": [
    {
     "data": {
      "text/plain": [
       "10"
      ]
     },
     "execution_count": 65,
     "metadata": {},
     "output_type": "execute_result"
    }
   ],
   "source": [
    "'''\n",
    "multiple \n",
    "line\n",
    "comment\n",
    "'''\n",
    "val1 = 10\n",
    "val1"
   ]
  },
  {
   "cell_type": "markdown",
   "id": "11adc94f-ed51-4b3f-8041-6cd66e5cb58d",
   "metadata": {},
   "source": [
    "STATEMENTS"
   ]
  },
  {
   "cell_type": "code",
   "execution_count": 68,
   "id": "f7c0f7c9-b727-4e4b-8206-67ccd4528dd8",
   "metadata": {},
   "outputs": [
    {
     "data": {
      "text/plain": [
       "(20, int, '0x7ffb6d032c18')"
      ]
     },
     "execution_count": 68,
     "metadata": {},
     "output_type": "execute_result"
    }
   ],
   "source": [
    "p = 20\n",
    "q = 20\n",
    "r = 20\n",
    "p , type(p), hex(id(p))"
   ]
  },
  {
   "cell_type": "code",
   "execution_count": 70,
   "id": "00ba32ea-64ab-4338-b95c-613bda5c1e61",
   "metadata": {},
   "outputs": [
    {
     "data": {
      "text/plain": [
       "(20, int, '0x7ffb6d032c18')"
      ]
     },
     "execution_count": 70,
     "metadata": {},
     "output_type": "execute_result"
    }
   ],
   "source": [
    "q , type(q),hex(id(q))"
   ]
  },
  {
   "cell_type": "code",
   "execution_count": 72,
   "id": "c80239b2-6d2b-413a-98aa-ff89b5154852",
   "metadata": {},
   "outputs": [
    {
     "data": {
      "text/plain": [
       "(20, int, '0x7ffb6d032c18')"
      ]
     },
     "execution_count": 72,
     "metadata": {},
     "output_type": "execute_result"
    }
   ],
   "source": [
    "r, type(r),hex(id(r))"
   ]
  },
  {
   "cell_type": "code",
   "execution_count": 86,
   "id": "1723feac-0bbc-4cec-a93e-169756c453de",
   "metadata": {},
   "outputs": [
    {
     "data": {
      "text/plain": [
       "30"
      ]
     },
     "execution_count": 86,
     "metadata": {},
     "output_type": "execute_result"
    }
   ],
   "source": [
    "p = 20\n",
    "p = p + 10\n",
    "p"
   ]
  },
  {
   "cell_type": "markdown",
   "id": "05ef6587-1e05-4526-9a2b-7c8e40dcfbaa",
   "metadata": {},
   "source": [
    "VARIABLE ASSIGMENT"
   ]
  },
  {
   "cell_type": "code",
   "execution_count": 88,
   "id": "2b3ca6e8-4a5f-42e6-9c97-51579568bb5d",
   "metadata": {},
   "outputs": [
    {
     "name": "stdout",
     "output_type": "stream",
     "text": [
      "10\n",
      "20.8\n",
      "python language\n"
     ]
    }
   ],
   "source": [
    "intvar = 10\n",
    "floatvar = 20.8\n",
    "strvar = \"python language\"\n",
    "print(intvar)\n",
    "print(floatvar)\n",
    "print(strvar)"
   ]
  },
  {
   "cell_type": "markdown",
   "id": "1e64027b-1418-48db-ad6e-5a5d4fabbd91",
   "metadata": {},
   "source": [
    "MULTIPLE ASSIGMENTS"
   ]
  },
  {
   "cell_type": "code",
   "execution_count": 92,
   "id": "9379b5f0-e618-46d7-a4bb-738aaaa4579a",
   "metadata": {},
   "outputs": [
    {
     "name": "stdout",
     "output_type": "stream",
     "text": [
      "10\n",
      "20.8\n",
      "python language\n"
     ]
    }
   ],
   "source": [
    "intvar , floatvar , strvar = 10,20.8,\"python language\"\n",
    "print(intvar)\n",
    "print(floatvar)\n",
    "print(strvar)"
   ]
  },
  {
   "cell_type": "code",
   "execution_count": 94,
   "id": "7011e37b-27d9-4e16-bb92-f6c17e678ee4",
   "metadata": {},
   "outputs": [
    {
     "name": "stdout",
     "output_type": "stream",
     "text": [
      "50\n",
      "50\n",
      "50\n",
      "50\n"
     ]
    }
   ],
   "source": [
    "p1 = p2 = p3 = p4 = 50\n",
    "print(p1)\n",
    "print(p2)\n",
    "print(p3)\n",
    "print(p4)"
   ]
  }
 ],
 "metadata": {
  "kernelspec": {
   "display_name": "Python [conda env:base] *",
   "language": "python",
   "name": "conda-base-py"
  },
  "language_info": {
   "codemirror_mode": {
    "name": "ipython",
    "version": 3
   },
   "file_extension": ".py",
   "mimetype": "text/x-python",
   "name": "python",
   "nbconvert_exporter": "python",
   "pygments_lexer": "ipython3",
   "version": "3.12.7"
  }
 },
 "nbformat": 4,
 "nbformat_minor": 5
}
