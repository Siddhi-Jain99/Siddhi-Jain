{
 "cells": [
  {
   "cell_type": "markdown",
   "id": "df39e12b-3654-4a83-a73e-c7769071bd53",
   "metadata": {},
   "source": [
    "# BASIC CODE"
   ]
  },
  {
   "cell_type": "code",
   "execution_count": 98,
   "id": "b44711c7-aa74-42fb-92f6-bfe137e7e07e",
   "metadata": {},
   "outputs": [
    {
     "name": "stdout",
     "output_type": "stream",
     "text": [
      "5\n",
      "1\n",
      "6\n",
      "1.5\n",
      "9\n",
      "1\n",
      "1\n"
     ]
    }
   ],
   "source": [
    "print(3 + 2)\n",
    "print(3 - 2)  \n",
    "print(3 * 2)   \n",
    "print(3 / 2)   \n",
    "print(3 ** 2)  \n",
    "print(3 % 2)   \n",
    "print(3 // 2)"
   ]
  },
  {
   "cell_type": "markdown",
   "id": "7a45ce39-c156-46f6-aa55-b7b10468f0f8",
   "metadata": {},
   "source": [
    "# CHECKING DATATYPES"
   ]
  },
  {
   "cell_type": "code",
   "execution_count": 101,
   "id": "a8716e62-b70d-4554-a3ac-cf9048b8c086",
   "metadata": {},
   "outputs": [
    {
     "name": "stdout",
     "output_type": "stream",
     "text": [
      "<class 'int'>\n",
      "<class 'float'>\n",
      "<class 'complex'>\n",
      "<class 'str'>\n",
      "<class 'list'>\n",
      "<class 'dict'>\n",
      "<class 'set'>\n",
      "<class 'tuple'>\n",
      "<class 'bool'>\n",
      "<class 'bool'>\n"
     ]
    }
   ],
   "source": [
    "print(type(10))\n",
    "print(type(3.14))\n",
    "print(type(1 + 3j))\n",
    "print(type(\"siddhi\"))\n",
    "print(type([1,2,3]))\n",
    "print(type({\"name\":\"siddhi\"}))\n",
    "print(type({6.9,9.8,8.5}))\n",
    "print(type((6.9,9.8,8.5)))\n",
    "print(type(3 == 3))\n",
    "print(type(3 >= 3))"
   ]
  }
 ],
 "metadata": {
  "kernelspec": {
   "display_name": "Python [conda env:base] *",
   "language": "python",
   "name": "conda-base-py"
  },
  "language_info": {
   "codemirror_mode": {
    "name": "ipython",
    "version": 3
   },
   "file_extension": ".py",
   "mimetype": "text/x-python",
   "name": "python",
   "nbconvert_exporter": "python",
   "pygments_lexer": "ipython3",
   "version": "3.12.7"
  }
 },
 "nbformat": 4,
 "nbformat_minor": 5
}
